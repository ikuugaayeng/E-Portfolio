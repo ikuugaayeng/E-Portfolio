{
  "cells": [
    {
      "cell_type": "raw",
      "metadata": {},
      "source": [
        "---\n",
        "title: \"Your E-Portfolio\"\n",
        "image: images/headshot.jpg\n",
        "about:\n",
        "  template: trestles\n",
        "  image-width: 20em\n",
        "  links: \n",
        "    - icon: linkedin\n",
        "      text: LinkedIn\n",
        "      href: https://www.linkedin.com/in/isaac-k/\n",
        "    - icon: twitter\n",
        "      text: Twitter/X\n",
        "      href: https://x.com/ikuugaayeng\n",
        "    - icon: github\n",
        "      text: GitHub\n",
        "      href: https://github.com/ikuugaayeng\n",
        "    - icon: envelope-at\n",
        "      text: Email\n",
        "      href: mailto:isaac020@student.ubc.ca\n",
        "---"
      ],
      "id": "28aa64e6"
    },
    {
      "cell_type": "markdown",
      "metadata": {},
      "source": [
        "```{css echo=FALSE}\n",
        ".column {\n",
        "text-align: center;\n",
        "}\n",
        "```\n",
        "\n",
        "\n",
        "Quarto enables you to weave together content and executable code into a finished document. To learn more about Quarto see <https://quarto.org>.\n",
        "\n",
        "Quarto is based on Pandoc and uses its variation of markdown as its underlying document syntax. Pandoc markdown is an extended and slightly revised version of John Gruber's Markdown syntax and Markdown is a plain text format.\n",
        "\n",
        "Markdown is a plain text format that is designed to be easy to write, and, even more importantly, easy to read:\n",
        "\n",
        ":::\n",
        "\n",
        "**Hello and welcome to my portfolio,**\n",
        "\n",
        "I earned my bachelor's degree in Land Economy with a focus on law, economics and their relations with the built environment at the Kwame Nkrumah University of Science and Technology (KNUST), Ghana.\n",
        "\n",
        "After my undergraduate studies, I worked as a Teaching and Research Assistant at the Department of Land Economy, KNUST. I also worked as a Junior Technical Advisor(interned) with German Development Cooperation (GIZ) on the Resilience Against Climate Change Project which seeks to address the impacts of climate change on agriculture in the Northern part of Ghana to improve food security.\n",
        "\n",
        "My firsthand experience with the impacts of climate change while working with GIZ inspired me to pursue the MGEM program at UBC Forestry. This program will equip me with the skills needed to monitor the damages and stressors on the environment and produce high-quality data to inform policies that will sustainably mitigate the pressing environmental challenges the world faces.\n",
        "\n",
        "Generally, my interests are the creation and automation of geoinformatics tools, platforms, and spatial data infrastructures. My goal is to leverage my skillsets and technical expertise in GIS and\n",
        "Remote Sensing from my studies at UBC to work with government and non-profit organizations\n",
        "and contribute to projects that promote environmental planning, biodiversity\n",
        "conservation and wildfire management"
      ],
      "id": "7f3a3d52"
    }
  ],
  "metadata": {
    "kernelspec": {
      "display_name": "Python 3",
      "language": "python",
      "name": "python3"
    }
  },
  "nbformat": 4,
  "nbformat_minor": 5
}